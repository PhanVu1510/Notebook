{
 "cells": [
  {
   "cell_type": "code",
   "execution_count": 1,
   "id": "8da5e2c4",
   "metadata": {},
   "outputs": [],
   "source": [
    "def phepbiendoi1(Matrix,col,row,value):\n",
    "        for i in range(col,len(Matrix[0])):\n",
    "            Matrix[row][i]=Matrix[row][i]*value;"
   ]
  },
  {
   "cell_type": "code",
   "execution_count": 2,
   "id": "13475579",
   "metadata": {},
   "outputs": [],
   "source": [
    "def phepbiendoi3(Matrix,col1,row1,row2,value):\n",
    "    for i in range(col1,len(Matrix[0])):\n",
    "        Matrix[row1][i]=Matrix[row1][i]+value*Matrix[row2][i] \n",
    "        if Matrix[row1][i]==-0:\n",
    "            Matrix[row1][i]=0"
   ]
  },
  {
   "cell_type": "code",
   "execution_count": 3,
   "id": "49e144da",
   "metadata": {},
   "outputs": [],
   "source": [
    "def PrintMatrix(Matrix):\n",
    "    for i in range(0,len(Matrix)):\n",
    "        print(Matrix[i])"
   ]
  },
  {
   "cell_type": "code",
   "execution_count": 4,
   "id": "0a610cf2",
   "metadata": {},
   "outputs": [],
   "source": [
    "def isColZero(Matrix,col,start): #Kiểm tra cột có số nào khác không bắt đầu từ start nếu có trả về index số đó\n",
    "    if start==len(Matrix):\n",
    "        return 0\n",
    "    for k in range(start,len(Matrix)):\n",
    "        if Matrix[k][col]!=0:\n",
    "            return k\n",
    "        return 0"
   ]
  },
  {
   "cell_type": "code",
   "execution_count": 5,
   "id": "8a2587c5",
   "metadata": {},
   "outputs": [],
   "source": [
    "def Gauss_elimination(Matrix): \n",
    "    start=0  #biến chạy xác định các lead \n",
    "    i=0\n",
    "    while (i<len(Matrix[0])-1):  #duyệt i theo từng cột\n",
    "        if Matrix[start][i]!=0:  #nếu cột i dòng start != 0 thì nó có thể trở thành lead \n",
    "            value=1/Matrix[start][i] #biến value chứa giá trị cái lead sẽ nhân để lấy thành 1 \n",
    "            phepbiendoi1(Matrix,i,start,value);  #phép biến đổi sơ cấp thứ 1 nhân 1 dòng với 1 giá trị cụ thể là value \n",
    "            for j in range(start+1,len(Matrix)): #áp dụng biến đổi 3 cho các dòng còn lại để chuẩn hóa (biến đổi về 0) \n",
    "                value=-1*Matrix[j][i] #chứa giá trị cần nhân để về 0 sau đó truyền vào phepbiendoi3\n",
    "                phepbiendoi3(Matrix,i,j,start,value)\n",
    "            start=start+1 #vì xác định lead và chuẩn hóa thành công nên start=start+1 để xuống 1 dòng\n",
    "            if(start==len(Matrix)): #nếu đã là dòng cuối thì kết thúc\n",
    "                return;\n",
    "        else: #nếu cột i dòng start ==0 (không thể là lead)\n",
    "            check=isColZero(Matrix,i,start+1) #kiểm tra cột có dòng nào khác 0\n",
    "            if(check!=0): #nếu có dòng nào đó != thì hoán vị , nếu không thì kết thúc lần lặp cột i,\n",
    "                                                                #qua cột mới với giá trị start giữ nguyên start\n",
    "                Matrix[start],Matrix[check]=Matrix[check],Matrix[start] # hoán vị\n",
    "                i=i-1 #vì đã hoán vị 1 số != về lead nếu cho i chạy lại lần lặp này để xét biến đổi nó\n",
    "        i=i+1"
   ]
  },
  {
   "cell_type": "code",
   "execution_count": 6,
   "id": "489205b0",
   "metadata": {
    "scrolled": true
   },
   "outputs": [],
   "source": [
    "Matrix=[[4,-2,-4,2,1],[6,-3,0,-5,3],[8,-4,28,-44,11],[-8,4,-4,12,-5]]"
   ]
  },
  {
   "cell_type": "code",
   "execution_count": 7,
   "id": "a5ec73cc",
   "metadata": {},
   "outputs": [],
   "source": [
    "def Check_Vo_nghiem(Matrix):\n",
    "    for i in range(0,len(Matrix)):\n",
    "        if(Matrix[i][len(Matrix[0])-1]!=0):\n",
    "            for j in range(0,len(Matrix[0])-1):\n",
    "                if Matrix[i][j]!=0:\n",
    "                    break\n",
    "                if j==len(Matrix[0])-2:\n",
    "                    return True\n",
    "    return False"
   ]
  },
  {
   "cell_type": "code",
   "execution_count": 8,
   "id": "c4a8122f",
   "metadata": {},
   "outputs": [],
   "source": [
    "def PrintVariable(Matrix,Value,Value_Free_Var,Symbol,start,isfree,col,row,z):\n",
    "    s=0            \n",
    "    check=Matrix[row][len(Matrix[0])-1] #giữ giá trị cuối cùng (kết quả của dòng)\n",
    "    if isfree==0: #nếu không có ẩn tự do(chỉ có 1 nghiệm) thì xuất nghiệm rồi kết thúc hàm\n",
    "        print(check)\n",
    "    else: #nếu có ẩn tự do (vô số nghiệm) \n",
    "        Symbol[col]=\"\" #Symbol là mảng chứa kí tự , col là cột(ẩn của ptr) đang được truyền vào hàm\n",
    "        if check!=0: #nếu kết quả của dòng khác 0 thì lưu nó vào biến Value của x đang xét VD:dòng đó của x1 thì\n",
    "            Value[col]=Value[col]+check                                                             #lưu vào Value[0] \n",
    "                  \n",
    "        for i in range(0,len(start)): #chạy for từ ẩn x1 > ẩn x cuối cùng\n",
    "            if i==col or Matrix[row][i]==0: # nếu cột đó là cột của biến đang xét VD đang xét ẩn x1 mà gặp cột x1 thì bỏ qua\n",
    "                continue                                                      # hoặc cột đó giá trị =0 thì không xét làm gì\n",
    "                                                                              # ví dụ x1=0*x3  thì ko xét x3\n",
    "            if start[i]==-1: #nếu là ẩn tự do\n",
    "                Value_Free_Var[col][i]=Matrix[row][i]*-1   #lưu hệ số của ẩn tự do đó vào một mảng 2 chiều VD: x1= 2*x3 + 3*x4 \n",
    "                                                           #thì lưu nó vào dòng 0,cột 3 và dòng 0 cột 4 của mảng và đổi dấu \n",
    "            else: #nếu là ẩn cơ sở      \n",
    "                    Value[col]= Value[col]+Matrix[row][i]*Value[i]*-1 \n",
    "                    #cộng tiếp vào phần tử của x đang xét trong mảng Value để tổng các số ko có x theo sau\n",
    "                    # sau đó đổi dấu vì chuyển vế\n",
    "                    \n",
    "        #i: hệ số x j: nghiệm x\n",
    "        #Dùng các mảng đã lưu giá trị ở trên để in và tính toán\n",
    "        \n",
    "        #tạo bản sao của mảng nhằm giữ giá trị gốc sau khi tính toán cho x cụ thể\n",
    "        CopyArray=CreateValueArr(Matrix,len(start)+1) \n",
    "        for i in range(0,len(start)+1):\n",
    "            CopyArray[i]=CreateValueArr(Matrix,len(start))\n",
    "        for i in range(0,len(start)):           #sao chép các giá trị\n",
    "            if start[i]!=-1:    #nếu là ẩn cơ sở thì bỏ qua vì mảng này chỉ lưu các hệ số của các ẩn tự do mà các ẩn tự do\n",
    "                                                                                                        #nằm trong các ẩn cơ sở\n",
    "                    for j in range(0,len(start)):\n",
    "                        CopyArray[i][j]=Value_Free_Var[i][j]\n",
    "                \n",
    "        #Cộng dồn các hệ số theo từng bậc của x VD: ta có x3 là ẩn tự do x2=5*x3 và x1 = 2*x2 + 3*x3 thì ta được x1=13*x3\n",
    "        for i in range(0,len(start)): #bước này có tác dụng cộng dồn và đổi dấu khi chuyển vế\n",
    "            if start[i]==-1:\n",
    "                for j in range(0,len(start)):\n",
    "                        if j!=col:\n",
    "                            s=s+CopyArray[j][i]*Matrix[z][j]*-1\n",
    "                        else:\n",
    "                            s=s+CopyArray[j][i]*Matrix[z][j]\n",
    "                if j==len(start)-1:\n",
    "                    CopyArray[j+1][i]=s\n",
    "                    Value_Free_Var[row][i]=s\n",
    "                    s=0\n",
    "        #nối lại với nhau ép về chuỗi và in          \n",
    "        j=len(start)\n",
    "        for i in range(0,len(start)):\n",
    "            if start[i]==-1:\n",
    "                temp=CopyArray[j][i]\n",
    "                if temp<0:\n",
    "                    Symbol[col]=str(Symbol[col])+\" - \"+str(CopyArray[j][i]*-1)+\"(x\"+str(i+1)+\")\"\n",
    "                elif temp>0:\n",
    "                    Symbol[col]=str(Symbol[col])+\" + \"+str(CopyArray[j][i])+\"(x\"+str(i+1)+\")\"   \n",
    "                    \n",
    "        print(\"(x\"+str(col+1)+\")= \"+str(Value[col])+str(Symbol[col]),end=\"\")\n",
    "                \n"
   ]
  },
  {
   "cell_type": "code",
   "execution_count": 9,
   "id": "c8c7b735",
   "metadata": {},
   "outputs": [],
   "source": [
    "def CreateValueArr(Matrix,n): #Khoi tao mang n phan tu gia tri 0\n",
    "    Value=[]\n",
    "    for i in range(0,n):\n",
    "        Value.append(0)\n",
    "    return Value"
   ]
  },
  {
   "cell_type": "code",
   "execution_count": 10,
   "id": "df84b2e5",
   "metadata": {},
   "outputs": [],
   "source": [
    "def Basic_Var_Array(Matrix): #Kiểm tra HPTTT có ẩn tự do hay không,trả về mảng chứa vị trí các lead\n",
    "    move=0\n",
    "    isfree=0\n",
    "    start=[]\n",
    "    for i in range(0,len(Matrix[0])-1):\n",
    "        if Matrix[move][i]==1.0:\n",
    "            start.append(move)\n",
    "            move=move+1\n",
    "            if move==len(Matrix):\n",
    "                for j in range(i+1,len(Matrix[0])-1):\n",
    "                    start.append(-1)\n",
    "                    isfree=1\n",
    "                return start,isfree\n",
    "        else:\n",
    "            start.append(-1)\n",
    "            isfree=1\n",
    "    return start,isfree\n",
    "            "
   ]
  },
  {
   "cell_type": "code",
   "execution_count": 11,
   "id": "bd8329e6",
   "metadata": {},
   "outputs": [],
   "source": [
    "def back_substitution(Matrix):\n",
    "    if Check_Vo_nghiem(Matrix)==True:\n",
    "        print(\"Hệ PTTT vô nghiệm\")\n",
    "        return\n",
    "    start,isfree=Basic_Var_Array(Matrix) #Mảng lưu vị trí các lead và biến kiểm tra ẩn tự do\n",
    "    Value=CreateValueArr(Matrix,len(start)) #Mảng lưu giá trị\n",
    "    Value_Free_Var=CreateValueArr(Matrix,len(start)+1) #Mảng 2 chiều lưu hệ số của ẩn tự do với dòng đại diện cho biến x cơ sở\n",
    "                                                        #nào đó còn từng phần tử (cột) trên dòng đó là các hệ số của ẩn tự do\n",
    "                                                        #chứa trong biến cơ sở đó(dòng đó)\n",
    "    for k in range(0,len(start)+1): #Khởi tạo ban đầu các mảng\n",
    "        Value_Free_Var[k]=CreateValueArr(Matrix,len(start))   \n",
    "    Symbol=CreateValueArr(Matrix,len(start))  \n",
    "    \n",
    "    #Bắt đầu công việc chính\n",
    "    i=len(start)-1\n",
    "    z=1 \n",
    "    while(i>=0): #duyệt mảng start là mảng lưu vị trí các lead\n",
    "        if start[i]==-1: #ẩn tự do thì bỏ qua in ra \n",
    "            print(\"(X\"+str(i+1)+\") là ẩn tự do\")\n",
    "            i=i-1\n",
    "            continue\n",
    "            #ẩn cơ sở \n",
    "        z=start[i]\n",
    "        z=PrintVariable(Matrix,Value,Value_Free_Var,Symbol,start,isfree,i,start[i],z)\n",
    "        i=i-1\n",
    "        print(\" \")"
   ]
  },
  {
   "cell_type": "code",
   "execution_count": 12,
   "id": "365fdbbc",
   "metadata": {},
   "outputs": [
    {
     "name": "stdout",
     "output_type": "stream",
     "text": [
      "Ban đầu\n",
      "[4, -2, -4, 2, 1]\n",
      "[6, -3, 0, -5, 3]\n",
      "[8, -4, 28, -44, 11]\n",
      "[-8, 4, -4, 12, -5]\n",
      "Sau khi khử\n",
      "[1.0, -0.5, -1.0, 0.5, 0.25]\n",
      "[0, 0, 1.0, -1.3333333333333333, 0.25]\n",
      "[0, 0, 0, 0, 0]\n",
      "[0, 0, 0, 0, 0]\n",
      "Biện luận nghiệm: \n",
      "(X4) là ẩn tự do\n",
      "(x3)= 0.25 + 1.3333333333333333(x4) \n",
      "(X2) là ẩn tự do\n",
      "(x1)= 0.5 + 0.5(x2) + 0.8333333333333333(x4) \n"
     ]
    }
   ],
   "source": [
    "print(\"Ban đầu\")\n",
    "PrintMatrix(Matrix)\n",
    "print(\"Sau khi khử\")\n",
    "Gauss_elimination(Matrix)\n",
    "PrintMatrix(Matrix)\n",
    "print(\"Biện luận nghiệm: \")\n",
    "back_substitution(Matrix)"
   ]
  },
  {
   "cell_type": "code",
   "execution_count": null,
   "id": "97580747",
   "metadata": {},
   "outputs": [],
   "source": [
    "\n",
    "                 "
   ]
  },
  {
   "cell_type": "code",
   "execution_count": null,
   "id": "28643316",
   "metadata": {},
   "outputs": [],
   "source": []
  },
  {
   "cell_type": "code",
   "execution_count": null,
   "id": "96012c1f",
   "metadata": {},
   "outputs": [],
   "source": []
  }
 ],
 "metadata": {
  "kernelspec": {
   "display_name": "Python 3",
   "language": "python",
   "name": "python3"
  },
  "language_info": {
   "codemirror_mode": {
    "name": "ipython",
    "version": 3
   },
   "file_extension": ".py",
   "mimetype": "text/x-python",
   "name": "python",
   "nbconvert_exporter": "python",
   "pygments_lexer": "ipython3",
   "version": "3.8.8"
  }
 },
 "nbformat": 4,
 "nbformat_minor": 5
}
