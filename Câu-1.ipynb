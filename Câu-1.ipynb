{
 "cells": [
  {
   "cell_type": "markdown",
   "id": "a7719e3c",
   "metadata": {},
   "source": [
    "# Nguyễn Khắc Vỹ\n",
    "# 19127637\n",
    "# Câu 1"
   ]
  },
  {
   "cell_type": "markdown",
   "id": "0adf0fa2",
   "metadata": {},
   "source": [
    "# Khai báo thư viện"
   ]
  },
  {
   "cell_type": "code",
   "execution_count": 4,
   "id": "116f1012",
   "metadata": {},
   "outputs": [],
   "source": [
    "from sympy import *\n",
    "from sympy.solvers.solveset import linsolve"
   ]
  },
  {
   "cell_type": "markdown",
   "id": "8abc603d",
   "metadata": {},
   "source": [
    "# Khử gauss"
   ]
  },
  {
   "cell_type": "code",
   "execution_count": 5,
   "id": "26a30454",
   "metadata": {},
   "outputs": [],
   "source": [
    "def swapRow(A, m):\n",
    "    for i in range(m + 1, row):\n",
    "        if A[i][m] != 0:\n",
    "            k = i\n",
    "            for p in range(0, column):\n",
    "                temp  = A[m][p]\n",
    "                A[m][p] = A[k][p]\n",
    "                A[k][p] = temp\n",
    "    return A\n",
    "\n",
    "#Ham Khu gauss\n",
    "def Gauss_elimination(A):\n",
    "    for m in range(0, row - 1):\n",
    "        if A[m][m] == 0:\n",
    "            swapRow(A, m)\n",
    "        n = A[m][m]\n",
    "        for i in range(column):\n",
    "            if n != 0:\n",
    "                A[m][i] /= n \n",
    "    \n",
    "        for k in range(m + 1, row):\n",
    "            temp = A[k][m]\n",
    "            for i in range(column):\n",
    "                A[k][i] -= A[m][i] * temp\n",
    "    return A"
   ]
  },
  {
   "cell_type": "markdown",
   "id": "a2da1395",
   "metadata": {},
   "source": [
    "# Các hàm phụ xác định trường hợp nghiệm"
   ]
  },
  {
   "cell_type": "code",
   "execution_count": 3,
   "id": "25ec5bb3",
   "metadata": {},
   "outputs": [],
   "source": [
    "#Check truong hop vo nghiem\n",
    "def isNoSolution(A):\n",
    "    for i in range(0, row):\n",
    "        temp = 0 #dem cac he so = 0\n",
    "        for j in range(0, column - 1):\n",
    "            if A[i][j] != 0:\n",
    "                continue\n",
    "            else:\n",
    "                temp += 1\n",
    "                if temp == column - 1 and A[i][column - 1] != 0:\n",
    "                    return True\n",
    "    return False\n",
    "\n",
    "#Check truong hop 1 nghiem duy nhat\n",
    "def isASingleSolution(A):\n",
    "    for i in range(0, row):\n",
    "        if A[i][i] == 0:\n",
    "            return False\n",
    "    return True\n",
    "\n",
    "#Check truong hop nghien an\n",
    "def isInfinitelySolutions(A):\n",
    "    for i in range(0, row):\n",
    "        temp = 0 #dem cac he so = 0\n",
    "        for j in range(0, column):\n",
    "            if A[i][j] != 0:\n",
    "                continue\n",
    "            else:\n",
    "                temp += 1\n",
    "                if temp == column: #neu co 1 hang bang 0 het ket luan co nghiem an\n",
    "                    return True\n",
    "    return False\n",
    "\n",
    "#Tao ma tran rong\n",
    "def createZeroMatrix(row, column):\n",
    "    return [[0.0 for _ in range(column)] for _ in range(row)]\n",
    "\n",
    "#Xoa cac dong = 0\n",
    "def deleteZeroRow(A):\n",
    "    for i in range(0, len(A)):\n",
    "        if A[i][i] == 0:\n",
    "            B = createZeroMatrix(i, len(A[0]))\n",
    "            for j in range(0, i):\n",
    "                for k in range(0, len(A[0])):\n",
    "                    B[j][k] = A[j][k]\n",
    "            break\n",
    "    return B"
   ]
  },
  {
   "cell_type": "markdown",
   "id": "66606452",
   "metadata": {},
   "source": [
    "# Giải nghiệm hệ phương trình"
   ]
  },
  {
   "cell_type": "code",
   "execution_count": 8,
   "id": "c15d688b",
   "metadata": {},
   "outputs": [],
   "source": [
    "def back_substitution(A):\n",
    "    #Xuat ma tran\n",
    "    print(\"Ma tran A sau khi khu Gauss:\")\n",
    "    print(A)\n",
    "    if isNoSolution(A) == 1:\n",
    "        print(\"\\nHệ phương trình vô nghiệm\\n\")\n",
    "        \n",
    "    if isASingleSolution(A) == 1:\n",
    "        print(\"\\nHệ phương trình có nghiệm duy nhất:\")\n",
    "        arr = []\n",
    "        arr.append(A[row - 1][column - 1] / A[row - 1][row - 1])\n",
    "        n = -1\n",
    "        for i in range(row - 2, -1, -1):\n",
    "            temp = A[i][column - 1]\n",
    "            n -= 1\n",
    "            for j in range(column - 2, column + n - 1, -1):\n",
    "                temp -= A[i][j] * arr[j - (column - 2)]\n",
    "            arr.append(temp)\n",
    "        result = list(reversed(arr))\n",
    "        print(\"Cac nghiem lan luot la:\")\n",
    "        print(result)\n",
    "        \n",
    "    if isInfinitelySolutions(A) == 1:\n",
    "        print(\"\\nHệ phương trình vô số nghiệm\")\n",
    "        #Xoa cac dong = 0\n",
    "        temp = deleteZeroRow(A)\n",
    "        #Ham dung de tinh truong hop nghiem an cua sympy\n",
    "        x, y, z = symbols('x, y, z')\n",
    "        M = Matrix((temp))\n",
    "        system = A, b = M[:, :-1], M[:, -1]\n",
    "        print(\"Cac nghiem va nghiem an lan luot la:\")\n",
    "        print(linsolve(system, x, y, z))"
   ]
  },
  {
   "cell_type": "markdown",
   "id": "7d2b28c1",
   "metadata": {},
   "source": [
    "# Trường hợp vô nghiệm"
   ]
  },
  {
   "cell_type": "code",
   "execution_count": 9,
   "id": "927f1a8f",
   "metadata": {},
   "outputs": [
    {
     "name": "stdout",
     "output_type": "stream",
     "text": [
      "Ma tran A sau khi khu Gauss:\n",
      "[[1.0, -2.0, -1.0, -6.0], [0.0, 1.0, 1.0, 5.0], [0.0, 0.0, 0.0, 2.0]]\n",
      "\n",
      "Hệ phương trình vô nghiệm\n",
      "\n"
     ]
    }
   ],
   "source": [
    "#Tao ma tran\n",
    "A = [[1, -2, -1, -6],\n",
    "     [2, -1,  1,  3],\n",
    "     [1,  0,  1,  6]]\n",
    "\n",
    "row = len(A)\n",
    "column = len(A[0])\n",
    "\n",
    "Gauss_elimination(A)\n",
    "back_substitution(A)  "
   ]
  },
  {
   "cell_type": "markdown",
   "id": "4009feda",
   "metadata": {},
   "source": [
    "# Trường hợp có nghiệm duy nhất"
   ]
  },
  {
   "cell_type": "code",
   "execution_count": 12,
   "id": "a99b3124",
   "metadata": {},
   "outputs": [
    {
     "name": "stdout",
     "output_type": "stream",
     "text": [
      "Ma tran A sau khi khu Gauss:\n",
      "[[1.0, 2.0, -1.0, -1.0], [-0.0, 1.0, -1.5, -2.0], [0.0, 0.0, -0.5, 0.0]]\n",
      "\n",
      "Hệ phương trình có nghiệm duy nhất:\n",
      "Cac nghiem lan luot la:\n",
      "[3.0, -2.0, -0.0]\n"
     ]
    }
   ],
   "source": [
    "#Tao ma tran\n",
    "B = [[1,  2, -1, -1],\n",
    "     [2,  2,  1,  2],\n",
    "     [3,  5, -2, -1]]\n",
    "\n",
    "row = len(B)\n",
    "column = len(B[0])\n",
    "\n",
    "Gauss_elimination(B)\n",
    "back_substitution(B)  "
   ]
  },
  {
   "cell_type": "markdown",
   "id": "4e1319dd",
   "metadata": {},
   "source": [
    "# Trường hợp vô số nghiệm (nghiệm ẩn)"
   ]
  },
  {
   "cell_type": "code",
   "execution_count": 13,
   "id": "bb976bef",
   "metadata": {},
   "outputs": [
    {
     "name": "stdout",
     "output_type": "stream",
     "text": [
      "Ma tran A sau khi khu Gauss:\n",
      "[[1.0, -2.0, -1.0, -6.0], [0.0, 1.0, 1.0, 5.0], [0.0, 0.0, 0.0, 0.0]]\n",
      "\n",
      "Hệ phương trình vô số nghiệm\n",
      "Cac nghiem va nghiem an lan luot la:\n",
      "FiniteSet((4.0 - 1.0*z, 5.0 - 1.0*z, z))\n"
     ]
    }
   ],
   "source": [
    "#Tao ma tran\n",
    "C = [[1, -2, -1, -6],\n",
    "     [2, -1,  1,  3],\n",
    "     [1,  0,  1,  4]]\n",
    "\n",
    "row = len(C)\n",
    "column = len(C[0])\n",
    "\n",
    "Gauss_elimination(C)\n",
    "back_substitution(C) "
   ]
  },
  {
   "cell_type": "code",
   "execution_count": null,
   "id": "df390ce5",
   "metadata": {},
   "outputs": [],
   "source": []
  }
 ],
 "metadata": {
  "kernelspec": {
   "display_name": "Python 3",
   "language": "python",
   "name": "python3"
  },
  "language_info": {
   "codemirror_mode": {
    "name": "ipython",
    "version": 3
   },
   "file_extension": ".py",
   "mimetype": "text/x-python",
   "name": "python",
   "nbconvert_exporter": "python",
   "pygments_lexer": "ipython3",
   "version": "3.8.8"
  }
 },
 "nbformat": 4,
 "nbformat_minor": 5
}
